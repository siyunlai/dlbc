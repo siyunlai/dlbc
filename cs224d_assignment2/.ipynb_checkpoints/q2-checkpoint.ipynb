{
 "cells": [
  {
   "cell_type": "code",
   "execution_count": 1,
   "metadata": {
    "collapsed": false,
    "deletable": true,
    "editable": true
   },
   "outputs": [],
   "source": [
    "%load_ext autoreload\n",
    "%autoreload 2\n",
    "%reload_ext autoreload\n",
    "\n",
    "from q2_initialization import *\n",
    "from q2_NER import *"
   ]
  },
  {
   "cell_type": "raw",
   "metadata": {
    "deletable": true,
    "editable": true
   },
   "source": [
    "# A (5 points) Compute the gradients of J(θ) with respect to all the model parameters"
   ]
  },
  {
   "cell_type": "raw",
   "metadata": {
    "deletable": true,
    "editable": true
   },
   "source": [
    "# B (5 points) To avoid parameters from exploding or becoming highly correlated, it is helpful to augment our cost function with a Gaussian prior: this tends to push parameter weights closer to zero, without constraining their direction, and often leads to classifiers with better generalization ability."
   ]
  },
  {
   "cell_type": "code",
   "execution_count": 2,
   "metadata": {
    "collapsed": false,
    "deletable": true,
    "editable": true
   },
   "outputs": [
    {
     "name": "stdout",
     "output_type": "stream",
     "text": [
      "Running basic tests...\n",
      "Basic (non-exhaustive) Xavier initialization tests pass\n",
      "\n",
      "Running your tests...\n",
      "Normal (non-exhaustive) cross-entropy tests pass\n",
      "\n"
     ]
    }
   ],
   "source": [
    "test_initialization_basic()\n",
    "test_initialization()"
   ]
  },
  {
   "cell_type": "raw",
   "metadata": {
    "deletable": true,
    "editable": true
   },
   "source": [
    "# C (5 points) In order to avoid neurons becoming too correlated and ending up in poor local minimina, it is often helpful to randomly initialize parameters. One of the most frequent initializations used is called Xavier initialization\n",
    "\n",
    "complete \n",
    "\n",
    "# D (20 points) In q2 NER.py implement the NER window model by filling in the appropriate sections. The gradients you derived in (a) and (b) will be computed for you automatically, showing the benefits that automatic differentiation can provide for rapid prototyping."
   ]
  },
  {
   "cell_type": "code",
   "execution_count": 4,
   "metadata": {
    "collapsed": false,
    "deletable": true,
    "editable": true
   },
   "outputs": [
    {
     "name": "stdout",
     "output_type": "stream",
     "text": [
      "WARNING:tensorflow:From q2_NER.py:384: initialize_all_variables (from tensorflow.python.ops.variables) is deprecated and will be removed after 2017-03-02.\n",
      "Instructions for updating:\n",
      "Use `tf.global_variables_initializer` instead.\n",
      "Epoch 0\n",
      "Training loss: 0.302685976028976028\n",
      "Training acc: 0.912872444394\n",
      "Validation loss: 0.211138650775\n",
      "\n",
      "[[42381    59    65   164    90]\n",
      " [  204  1670     9   146    65]\n",
      " [  283    32   878    33    42]\n",
      " [  620    89    34  1234   115]\n",
      " [  516    36     3    42  2552]]\n",
      "Tag: O - P 0.9631 / R 0.9912\n",
      "Tag: LOC - P 0.8855 / R 0.7975\n",
      "Tag: MISC - P 0.8878 / R 0.6924\n",
      "Tag: ORG - P 0.7622 / R 0.5899\n",
      "Tag: PER - P 0.8911 / R 0.8104\n",
      "Total time: 160.900589943\n",
      "Epoch 1\n",
      "Training loss: 0.148677811027811027\n",
      "Training acc: 0.966491668345\n",
      "Validation loss: 0.195198729634\n",
      "\n",
      "[[42042   106    81   372   158]\n",
      " [  126  1794     8   102    64]\n",
      " [  239    39   906    51    33]\n",
      " [  400    91    29  1443   129]\n",
      " [  309    32     4    75  2729]]\n",
      "Tag: O - P 0.9751 / R 0.9832\n",
      "Tag: LOC - P 0.8700 / R 0.8567\n",
      "Tag: MISC - P 0.8813 / R 0.7145\n",
      "Tag: ORG - P 0.7063 / R 0.6898\n",
      "Tag: PER - P 0.8766 / R 0.8666\n",
      "Total time: 151.266477108\n",
      "Epoch 2\n",
      "Training loss: 0.121153458953458953\n",
      "Training acc: 0.973357364908\n",
      "Validation loss: 0.187482520938\n",
      "\n",
      "[[42277    92    89   200   101]\n",
      " [  146  1819    10    77    42]\n",
      " [  245    35   938    30    20]\n",
      " [  485   117    34  1365    91]\n",
      " [  444    38     7    36  2624]]\n",
      "Tag: O - P 0.9697 / R 0.9887\n",
      "Tag: LOC - P 0.8658 / R 0.8687\n",
      "Tag: MISC - P 0.8701 / R 0.7397\n",
      "Tag: ORG - P 0.7992 / R 0.6525\n",
      "Tag: PER - P 0.9117 / R 0.8333\n",
      "Total time: 152.774616957\n",
      "Epoch 3\n",
      "Training loss: 0.107513986528986528\n",
      "Training acc: 0.975940595518\n",
      "Validation loss: 0.188706412911\n",
      "\n",
      "[[42234   126    79   224    96]\n",
      " [  130  1846     9    74    35]\n",
      " [  258    47   895    51    17]\n",
      " [  477   138    26  1363    88]\n",
      " [  422    45     3    53  2626]]\n",
      "Tag: O - P 0.9704 / R 0.9877\n",
      "Tag: LOC - P 0.8383 / R 0.8816\n",
      "Tag: MISC - P 0.8844 / R 0.7058\n",
      "Tag: ORG - P 0.7722 / R 0.6515\n",
      "Tag: PER - P 0.9175 / R 0.8339\n",
      "Total time: 156.004786968\n",
      "Test\n",
      "=-=-=\n",
      "Writing predictions to q2_test.predicted\n"
     ]
    }
   ],
   "source": [
    "test_NER()"
   ]
  },
  {
   "cell_type": "code",
   "execution_count": null,
   "metadata": {
    "collapsed": true,
    "deletable": true,
    "editable": true
   },
   "outputs": [],
   "source": []
  }
 ],
 "metadata": {
  "kernelspec": {
   "display_name": "Python 2",
   "language": "python",
   "name": "python2"
  },
  "language_info": {
   "codemirror_mode": {
    "name": "ipython",
    "version": 2
   },
   "file_extension": ".py",
   "mimetype": "text/x-python",
   "name": "python",
   "nbconvert_exporter": "python",
   "pygments_lexer": "ipython2",
   "version": "2.7.13"
  }
 },
 "nbformat": 4,
 "nbformat_minor": 2
}
