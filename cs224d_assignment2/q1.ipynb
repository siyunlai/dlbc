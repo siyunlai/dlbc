{
 "cells": [
  {
   "cell_type": "code",
   "execution_count": 50,
   "metadata": {
    "collapsed": false,
    "deletable": true,
    "editable": true
   },
   "outputs": [
    {
     "name": "stdout",
     "output_type": "stream",
     "text": [
      "The autoreload extension is already loaded. To reload it, use:\n",
      "  %reload_ext autoreload\n"
     ]
    }
   ],
   "source": [
    "%load_ext autoreload\n",
    "%autoreload 2\n",
    "%reload_ext autoreload\n",
    "\n",
    "from q1_softmax import *\n",
    "from q1_classifier import *"
   ]
  },
  {
   "cell_type": "code",
   "execution_count": 78,
   "metadata": {
    "collapsed": false,
    "deletable": true,
    "editable": true
   },
   "outputs": [
    {
     "name": "stdout",
     "output_type": "stream",
     "text": [
      "Running basic tests...\n",
      "Basic (non-exhaustive) softmax tests pass\n",
      "\n"
     ]
    }
   ],
   "source": [
    "# A (4 points) Implement the softmax function using TensorFlow in q1 softmax.py.\n",
    "\n",
    "test_softmax_basic()"
   ]
  },
  {
   "cell_type": "code",
   "execution_count": 79,
   "metadata": {
    "collapsed": false,
    "deletable": true,
    "editable": true
   },
   "outputs": [
    {
     "name": "stdout",
     "output_type": "stream",
     "text": [
      "Basic (non-exhaustive) cross-entropy tests pass\n",
      "\n"
     ]
    }
   ],
   "source": [
    "# B (4 points) Implement the cross-entropy loss using TensorFlow in q1 softmax.py.\n",
    "test_cross_entropy_loss_basic()"
   ]
  },
  {
   "cell_type": "raw",
   "metadata": {
    "deletable": true,
    "editable": true
   },
   "source": [
    "# C (4 points) Carefully study the Model class in model.py. Briefly explain the purpose of placeholder vari-\n",
    "ables and feed dictionaries in tensorflow computations. Fill in the implementations for the add placeholders, create feed dict in q1 classifier.py.\n",
    "\n",
    "Answer:  Placeholder is a promise (like in javascript) instance that is promising that it will return values in the future.  In tensorflow, it acts as a input gate for sample and test data; however, it could also be used to supply hyperparameters.\n",
    "\n",
    "Feed dictionaries are input data for placeholders to fulfill promises.\n",
    "\n",
    "\n",
    "# C (4 points) Carefully study the Model class in model.py. Briefly explain the purpose of placeholder vari-\n",
    "ables and feed dictionaries in tensorflow computations. Fill in the implementations for the add placeholders, create feed dict in q1 classifier.py.\n",
    "\n",
    "Completed\n",
    "\n",
    "Hint: Note that configuration variables are stored in the Config class. You will need to use these configuration variables in the code.\n",
    "# D (4 points) Implement the transformation for a softmax classifier in function add model in q1 classifier.py. Add cross-entropy loss in function add loss op in the same file. Use the implementations from the\n",
    "earlier parts of the problem, not TensorFlow built-ins.\n",
    "\n",
    "Completed\n",
    "\n",
    "# E (4 points) Fill in the implementation for add training op in q1 classifier.py. Explain how TensorFlow’s automatic differentiation removes the need for us to define gradients explicitly. Verify that your model is able to fit to synthetic data by running python q1 classifier.py and making sure that the tests pass.\n",
    "Hint: Make sure to use the learning rate specified in Config.\n",
    "\n",
    "Answer:  TensorFlow's automatic differentiation is calculated using the computational graph constructed in the model (constructed in add_model).  TensorFlow looks at the operations in the graph to implement the corresponding automatic differentiation (built-in) during the back propagation.  This will alleviate the pain to write common back propagation functions.  However, if one want's to speed up a customized operation, one could implement one's own operation and automatic differentiation pair.  \n"
   ]
  },
  {
   "cell_type": "code",
   "execution_count": 83,
   "metadata": {
    "collapsed": false,
    "deletable": true,
    "editable": true
   },
   "outputs": [
    {
     "name": "stdout",
     "output_type": "stream",
     "text": [
      "Epoch 0: loss = 63.15 (0.014 sec)\n",
      "Epoch 1: loss = 21.69 (0.007 sec)\n",
      "Epoch 2: loss = 11.66 (0.007 sec)\n",
      "Epoch 3: loss = 7.79 (0.007 sec)\n",
      "Epoch 4: loss = 5.80 (0.007 sec)\n",
      "Epoch 5: loss = 4.61 (0.007 sec)\n",
      "Epoch 6: loss = 3.82 (0.007 sec)\n",
      "Epoch 7: loss = 3.25 (0.007 sec)\n",
      "Epoch 8: loss = 2.83 (0.007 sec)\n",
      "Epoch 9: loss = 2.51 (0.007 sec)\n",
      "Epoch 10: loss = 2.25 (0.007 sec)\n",
      "Epoch 11: loss = 2.04 (0.007 sec)\n",
      "Epoch 12: loss = 1.86 (0.008 sec)\n",
      "Epoch 13: loss = 1.71 (0.008 sec)\n",
      "Epoch 14: loss = 1.59 (0.007 sec)\n",
      "Epoch 15: loss = 1.48 (0.007 sec)\n",
      "Epoch 16: loss = 1.38 (0.007 sec)\n",
      "Epoch 17: loss = 1.30 (0.007 sec)\n",
      "Epoch 18: loss = 1.23 (0.007 sec)\n",
      "Epoch 19: loss = 1.16 (0.007 sec)\n",
      "Epoch 20: loss = 1.10 (0.007 sec)\n",
      "Epoch 21: loss = 1.05 (0.007 sec)\n",
      "Epoch 22: loss = 1.00 (0.007 sec)\n",
      "Epoch 23: loss = 0.95 (0.007 sec)\n",
      "Epoch 24: loss = 0.91 (0.007 sec)\n",
      "Epoch 25: loss = 0.88 (0.007 sec)\n",
      "Epoch 26: loss = 0.84 (0.007 sec)\n",
      "Epoch 27: loss = 0.81 (0.007 sec)\n",
      "Epoch 28: loss = 0.78 (0.008 sec)\n",
      "Epoch 29: loss = 0.75 (0.010 sec)\n",
      "Epoch 30: loss = 0.73 (0.013 sec)\n",
      "Epoch 31: loss = 0.70 (0.010 sec)\n",
      "Epoch 32: loss = 0.68 (0.009 sec)\n",
      "Epoch 33: loss = 0.66 (0.008 sec)\n",
      "Epoch 34: loss = 0.64 (0.007 sec)\n",
      "Epoch 35: loss = 0.62 (0.007 sec)\n",
      "Epoch 36: loss = 0.60 (0.007 sec)\n",
      "Epoch 37: loss = 0.59 (0.007 sec)\n",
      "Epoch 38: loss = 0.57 (0.007 sec)\n",
      "Epoch 39: loss = 0.56 (0.007 sec)\n",
      "Epoch 40: loss = 0.54 (0.007 sec)\n",
      "Epoch 41: loss = 0.53 (0.009 sec)\n",
      "Epoch 42: loss = 0.52 (0.008 sec)\n",
      "Epoch 43: loss = 0.50 (0.008 sec)\n",
      "Epoch 44: loss = 0.49 (0.008 sec)\n",
      "Epoch 45: loss = 0.48 (0.007 sec)\n",
      "Epoch 46: loss = 0.47 (0.007 sec)\n",
      "Epoch 47: loss = 0.46 (0.007 sec)\n",
      "Epoch 48: loss = 0.45 (0.007 sec)\n",
      "Epoch 49: loss = 0.44 (0.008 sec)\n",
      "Basic (non-exhaustive) classifier tests pass\n",
      "\n"
     ]
    }
   ],
   "source": [
    "test_SoftmaxModel()"
   ]
  },
  {
   "cell_type": "code",
   "execution_count": null,
   "metadata": {
    "collapsed": true,
    "deletable": true,
    "editable": true
   },
   "outputs": [],
   "source": []
  }
 ],
 "metadata": {
  "kernelspec": {
   "display_name": "Python 2",
   "language": "python",
   "name": "python2"
  },
  "language_info": {
   "codemirror_mode": {
    "name": "ipython",
    "version": 2
   },
   "file_extension": ".py",
   "mimetype": "text/x-python",
   "name": "python",
   "nbconvert_exporter": "python",
   "pygments_lexer": "ipython2",
   "version": "2.7.13"
  }
 },
 "nbformat": 4,
 "nbformat_minor": 2
}
