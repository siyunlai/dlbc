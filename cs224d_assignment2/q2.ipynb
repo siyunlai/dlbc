{
 "cells": [
  {
   "cell_type": "code",
   "execution_count": 1,
   "metadata": {
    "collapsed": false,
    "deletable": true,
    "editable": true
   },
   "outputs": [],
   "source": [
    "%load_ext autoreload\n",
    "%autoreload 2\n",
    "%reload_ext autoreload\n",
    "\n",
    "from q2_initialization import *\n",
    "from q2_NER import *"
   ]
  },
  {
   "cell_type": "raw",
   "metadata": {
    "deletable": true,
    "editable": true
   },
   "source": [
    "# A (5 points) Compute the gradients of J(θ) with respect to all the model parameters"
   ]
  },
  {
   "cell_type": "raw",
   "metadata": {
    "deletable": true,
    "editable": true
   },
   "source": [
    "# B (5 points) To avoid parameters from exploding or becoming highly correlated, it is helpful to augment our cost function with a Gaussian prior: this tends to push parameter weights closer to zero, without constraining their direction, and often leads to classifiers with better generalization ability."
   ]
  },
  {
   "cell_type": "code",
   "execution_count": 2,
   "metadata": {
    "collapsed": false,
    "deletable": true,
    "editable": true
   },
   "outputs": [
    {
     "name": "stdout",
     "output_type": "stream",
     "text": [
      "Running basic tests...\n",
      "Basic (non-exhaustive) Xavier initialization tests pass\n",
      "\n",
      "Running your tests...\n",
      "Normal (non-exhaustive) cross-entropy tests pass\n",
      "\n"
     ]
    }
   ],
   "source": [
    "test_initialization_basic()\n",
    "test_initialization()"
   ]
  },
  {
   "cell_type": "raw",
   "metadata": {
    "deletable": true,
    "editable": true
   },
   "source": [
    "# C (5 points) In order to avoid neurons becoming too correlated and ending up in poor local minimina, it is often helpful to randomly initialize parameters. One of the most frequent initializations used is called Xavier initialization\n",
    "\n",
    "complete \n",
    "\n",
    "# D (20 points) In q2 NER.py implement the NER window model by filling in the appropriate sections. The gradients you derived in (a) and (b) will be computed for you automatically, showing the benefits that automatic differentiation can provide for rapid prototyping."
   ]
  },
  {
   "cell_type": "code",
   "execution_count": 3,
   "metadata": {
    "collapsed": false,
    "deletable": true,
    "editable": true
   },
   "outputs": [
    {
     "name": "stdout",
     "output_type": "stream",
     "text": [
      "WARNING:tensorflow:From q2_NER.py:384: initialize_all_variables (from tensorflow.python.ops.variables) is deprecated and will be removed after 2017-03-02.\n",
      "Instructions for updating:\n",
      "Use `tf.global_variables_initializer` instead.\n",
      "Epoch 0\n",
      "Training loss: 0.293579220772220772\n",
      "Training acc: 0.920450248255\n",
      "Validation loss: 0.213105812669\n",
      "\n",
      "[[42380    86    35   208    50]\n",
      " [  193  1748     5   122    26]\n",
      " [  332    57   826    39    14]\n",
      " [  575   119    25  1321    52]\n",
      " [  621    50     4    63  2411]]\n",
      "Tag: O - P 0.9610 / R 0.9911\n",
      "Tag: LOC - P 0.8485 / R 0.8348\n",
      "Tag: MISC - P 0.9229 / R 0.6514\n",
      "Tag: ORG - P 0.7536 / R 0.6315\n",
      "Tag: PER - P 0.9444 / R 0.7656\n",
      "Total time: 160.980256081\n",
      "Epoch 1\n",
      "Training loss: 0.147547304637304635\n",
      "Training acc: 0.967046620928\n",
      "Validation loss: 0.194798871875\n",
      "\n",
      "[[42383    51    58   181    86]\n",
      " [  189  1695    20   152    38]\n",
      " [  282    28   892    48    18]\n",
      " [  534    68    28  1382    80]\n",
      " [  520    23     5    49  2552]]\n",
      "Tag: O - P 0.9653 / R 0.9912\n",
      "Tag: LOC - P 0.9088 / R 0.8095\n",
      "Tag: MISC - P 0.8893 / R 0.7035\n",
      "Tag: ORG - P 0.7627 / R 0.6606\n",
      "Tag: PER - P 0.9200 / R 0.8104\n",
      "Total time: 153.25918293\n",
      "Epoch 2\n",
      "Training loss: 0.120872803032803032\n",
      "Training acc: 0.973101988498\n",
      "Validation loss: 0.188983470201\n",
      "\n",
      "[[42249    88    67   304    51]\n",
      " [  135  1837    14    87    21]\n",
      " [  265    34   920    36    13]\n",
      " [  455   115    32  1436    54]\n",
      " [  483    59     8    91  2508]]\n",
      "Tag: O - P 0.9693 / R 0.9881\n",
      "Tag: LOC - P 0.8612 / R 0.8773\n",
      "Tag: MISC - P 0.8838 / R 0.7256\n",
      "Tag: ORG - P 0.7349 / R 0.6864\n",
      "Tag: PER - P 0.9475 / R 0.7964\n",
      "Total time: 155.2104671\n",
      "Epoch 3\n",
      "Training loss: 0.107443183661183661\n",
      "Training acc: 0.975896395755\n",
      "Validation loss: 0.187455490232\n",
      "\n",
      "[[42341    76    80   215    47]\n",
      " [  157  1831    13    60    33]\n",
      " [  261    32   934    28    13]\n",
      " [  522   141    32  1345    52]\n",
      " [  530    35     5    62  2517]]\n",
      "Tag: O - P 0.9664 / R 0.9902\n",
      "Tag: LOC - P 0.8657 / R 0.8744\n",
      "Tag: MISC - P 0.8778 / R 0.7366\n",
      "Tag: ORG - P 0.7865 / R 0.6429\n",
      "Tag: PER - P 0.9455 / R 0.7993\n",
      "Total time: 142.094143152\n",
      "Test\n",
      "=-=-=\n",
      "Writing predictions to q2_test.predicted\n"
     ]
    },
    {
     "name": "stderr",
     "output_type": "stream",
     "text": [
      "/Users/siyun/anaconda/lib/python2.7/site-packages/numpy/core/fromnumeric.py:2889: RuntimeWarning: Mean of empty slice.\n",
      "  out=out, **kwargs)\n",
      "/Users/siyun/anaconda/lib/python2.7/site-packages/numpy/core/_methods.py:80: RuntimeWarning: invalid value encountered in double_scalars\n",
      "  ret = ret.dtype.type(ret / rcount)\n"
     ]
    }
   ],
   "source": [
    "test_NER()"
   ]
  },
  {
   "cell_type": "code",
   "execution_count": null,
   "metadata": {
    "collapsed": true,
    "deletable": true,
    "editable": true
   },
   "outputs": [],
   "source": []
  }
 ],
 "metadata": {
  "kernelspec": {
   "display_name": "Python 2",
   "language": "python",
   "name": "python2"
  },
  "language_info": {
   "codemirror_mode": {
    "name": "ipython",
    "version": 2
   },
   "file_extension": ".py",
   "mimetype": "text/x-python",
   "name": "python",
   "nbconvert_exporter": "python",
   "pygments_lexer": "ipython2",
   "version": "2.7.13"
  }
 },
 "nbformat": 4,
 "nbformat_minor": 2
}
