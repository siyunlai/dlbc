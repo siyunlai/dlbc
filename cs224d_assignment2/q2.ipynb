{
 "cells": [
  {
   "cell_type": "code",
   "execution_count": 2,
   "metadata": {
    "collapsed": false,
    "deletable": true,
    "editable": true
   },
   "outputs": [],
   "source": [
    "%load_ext autoreload\n",
    "%autoreload 2\n",
    "%reload_ext autoreload\n",
    "\n",
    "from q2_initialization import *\n",
    "from q2_NER import *"
   ]
  },
  {
   "cell_type": "raw",
   "metadata": {
    "deletable": true,
    "editable": true
   },
   "source": [
    "# A (5 points) Compute the gradients of J(θ) with respect to all the model parameters"
   ]
  },
  {
   "cell_type": "raw",
   "metadata": {
    "deletable": true,
    "editable": true
   },
   "source": [
    "# B (5 points) To avoid parameters from exploding or becoming highly correlated, it is helpful to augment our cost function with a Gaussian prior: this tends to push parameter weights closer to zero, without constraining their direction, and often leads to classifiers with better generalization ability."
   ]
  },
  {
   "cell_type": "code",
   "execution_count": 3,
   "metadata": {
    "collapsed": false,
    "deletable": true,
    "editable": true
   },
   "outputs": [
    {
     "name": "stdout",
     "output_type": "stream",
     "text": [
      "Running basic tests...\n",
      "Basic (non-exhaustive) Xavier initialization tests pass\n",
      "\n",
      "Running your tests...\n",
      "Normal (non-exhaustive) cross-entropy tests pass\n",
      "\n"
     ]
    }
   ],
   "source": [
    "test_initialization_basic()\n",
    "test_initialization()"
   ]
  },
  {
   "cell_type": "raw",
   "metadata": {
    "deletable": true,
    "editable": true
   },
   "source": [
    "# C (5 points) In order to avoid neurons becoming too correlated and ending up in poor local minimina, it is often helpful to randomly initialize parameters. One of the most frequent initializations used is called Xavier initialization\n",
    "\n",
    "complete \n",
    "\n",
    "# D (20 points) In q2 NER.py implement the NER window model by filling in the appropriate sections. The gradients you derived in (a) and (b) will be computed for you automatically, showing the benefits that automatic differentiation can provide for rapid prototyping."
   ]
  },
  {
   "cell_type": "code",
   "execution_count": 4,
   "metadata": {
    "collapsed": false,
    "deletable": true,
    "editable": true
   },
   "outputs": [
    {
     "name": "stdout",
     "output_type": "stream",
     "text": [
      "WARNING:tensorflow:From q2_NER.py:384: initialize_all_variables (from tensorflow.python.ops.variables) is deprecated and will be removed after 2017-03-02.\n",
      "Instructions for updating:\n",
      "Use `tf.global_variables_initializer` instead.\n",
      "Epoch 0\n",
      "Training loss: 0.293390184641184641\n",
      "Training acc: 0.922674969674\n",
      "Validation loss: 0.212081477046\n",
      "\n",
      "[[42467    46    34   142    70]\n",
      " [  218  1690    10   115    61]\n",
      " [  328    34   840    50    16]\n",
      " [  591   118    31  1268    84]\n",
      " [  503    25     1    68  2552]]\n",
      "Tag: O - P 0.9628 / R 0.9932\n",
      "Tag: LOC - P 0.8834 / R 0.8071\n",
      "Tag: MISC - P 0.9170 / R 0.6625\n",
      "Tag: ORG - P 0.7718 / R 0.6061\n",
      "Tag: PER - P 0.9170 / R 0.8104\n",
      "Total time: 152.264267921\n",
      "Epoch 1\n",
      "Training loss: 0.147643357515357515\n",
      "Training acc: 0.967169398048\n",
      "Validation loss: 0.191615194082\n",
      "\n",
      "[[42375    79    42   158   105]\n",
      " [  159  1814     8    67    46]\n",
      " [  268    44   897    42    17]\n",
      " [  534   136    30  1305    87]\n",
      " [  444    33     2    68  2602]]\n",
      "Tag: O - P 0.9679 / R 0.9910\n",
      "Tag: LOC - P 0.8613 / R 0.8663\n",
      "Tag: MISC - P 0.9162 / R 0.7074\n",
      "Tag: ORG - P 0.7957 / R 0.6238\n",
      "Tag: PER - P 0.9107 / R 0.8263\n",
      "Total time: 148.290977955\n",
      "Epoch 2\n",
      "Training loss: 0.120587214828214828\n",
      "Training acc: 0.97319529911\n",
      "Validation loss: 0.18808105588\n",
      "\n",
      "[[42266    70    82   259    82]\n",
      " [  162  1800    12    74    46]\n",
      " [  248    32   920    51    17]\n",
      " [  491   111    28  1385    77]\n",
      " [  438    31     4    81  2595]]\n",
      "Tag: O - P 0.9693 / R 0.9885\n",
      "Tag: LOC - P 0.8806 / R 0.8596\n",
      "Tag: MISC - P 0.8795 / R 0.7256\n",
      "Tag: ORG - P 0.7486 / R 0.6620\n",
      "Tag: PER - P 0.9212 / R 0.8241\n",
      "Total time: 155.942603827\n",
      "Epoch 3\n",
      "Training loss: 0.106676124036124036\n",
      "Training acc: 0.976225438437\n",
      "Validation loss: 0.185807928443\n",
      "\n",
      "[[42340    67    68   205    79]\n",
      " [  143  1793    12   101    45]\n",
      " [  246    23   938    43    18]\n",
      " [  509    97    29  1382    75]\n",
      " [  460    30     4    77  2578]]\n",
      "Tag: O - P 0.9689 / R 0.9902\n",
      "Tag: LOC - P 0.8920 / R 0.8563\n",
      "Tag: MISC - P 0.8925 / R 0.7397\n",
      "Tag: ORG - P 0.7644 / R 0.6606\n",
      "Tag: PER - P 0.9224 / R 0.8187\n",
      "Total time: 147.279433966\n",
      "Test\n",
      "=-=-=\n",
      "Writing predictions to q2_test.predicted\n"
     ]
    },
    {
     "name": "stderr",
     "output_type": "stream",
     "text": [
      "/Users/siyun/anaconda/lib/python2.7/site-packages/numpy/core/fromnumeric.py:2889: RuntimeWarning: Mean of empty slice.\n",
      "  out=out, **kwargs)\n",
      "/Users/siyun/anaconda/lib/python2.7/site-packages/numpy/core/_methods.py:80: RuntimeWarning: invalid value encountered in double_scalars\n",
      "  ret = ret.dtype.type(ret / rcount)\n"
     ]
    }
   ],
   "source": [
    "test_NER()"
   ]
  },
  {
   "cell_type": "code",
   "execution_count": null,
   "metadata": {
    "collapsed": true,
    "deletable": true,
    "editable": true
   },
   "outputs": [],
   "source": []
  }
 ],
 "metadata": {
  "kernelspec": {
   "display_name": "Python 2",
   "language": "python",
   "name": "python2"
  },
  "language_info": {
   "codemirror_mode": {
    "name": "ipython",
    "version": 2
   },
   "file_extension": ".py",
   "mimetype": "text/x-python",
   "name": "python",
   "nbconvert_exporter": "python",
   "pygments_lexer": "ipython2",
   "version": "2.7.13"
  }
 },
 "nbformat": 4,
 "nbformat_minor": 2
}
